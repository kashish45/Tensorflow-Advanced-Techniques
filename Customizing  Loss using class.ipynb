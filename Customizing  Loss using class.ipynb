{
  "nbformat": 4,
  "nbformat_minor": 0,
  "metadata": {
    "colab": {
      "name": "Untitled22.ipynb",
      "provenance": [],
      "collapsed_sections": []
    },
    "kernelspec": {
      "name": "python3",
      "display_name": "Python 3"
    },
    "accelerator": "GPU"
  },
  "cells": [
    {
      "cell_type": "code",
      "metadata": {
        "id": "QljF_b5w_oVn"
      },
      "source": [
        "#Huber Loss with Threshold"
      ],
      "execution_count": 1,
      "outputs": []
    },
    {
      "cell_type": "code",
      "metadata": {
        "id": "GPrnue0W_uFA"
      },
      "source": [
        "import tensorflow as tf\r\n",
        "import numpy as np\r\n",
        "from tensorflow import keras\r\n",
        "\r\n",
        "xs=np.array([-1.0,0.0,1.0,2.0,3.0,4.0],dtype=float)\r\n",
        "ys=np.array([-3.0,-1.0,1.0,3.0,5.0,7.0],dtype=float)"
      ],
      "execution_count": 2,
      "outputs": []
    },
    {
      "cell_type": "code",
      "metadata": {
        "id": "XirW3baYAbY9"
      },
      "source": [
        "# Delta=Threshold\r\n",
        "# error =a\r\n",
        "def my_huber_loss_with_threshold(threshold):\r\n",
        "  def my_huber_loss(y_true,y_pred):\r\n",
        "    error=y_true-y_pred\r\n",
        "    is_small_error=tf.abs(error) <= threshold\r\n",
        "    small_error_loss=tf.square(error)/2\r\n",
        "    big_error_loss=threshold*(tf.abs(error)-(0.5*threshold))\r\n",
        "    return tf.where(is_small_error,small_error_loss,big_error_loss)#Boolean to chech--> value if true,value if false\r\n",
        "  return my_huber_loss  "
      ],
      "execution_count": 7,
      "outputs": []
    },
    {
      "cell_type": "code",
      "metadata": {
        "colab": {
          "base_uri": "https://localhost:8080/"
        },
        "id": "sBhl7Y4dAX8q",
        "outputId": "b10ddddb-9f42-4d3a-8c82-78fe629da181"
      },
      "source": [
        "  model=tf.keras.Sequential([keras.layers.Dense(units=1,input_shape=[1])])\r\n",
        "  model.compile(optimizer='sgd',loss=my_huber_loss_with_threshold(threshold=1))\r\n",
        "  model.fit(xs,ys,epochs=500,verbose=0)\r\n",
        "  print(model.predict([10.0]))"
      ],
      "execution_count": 8,
      "outputs": [
        {
          "output_type": "stream",
          "text": [
            "[[18.724903]]\n"
          ],
          "name": "stdout"
        }
      ]
    },
    {
      "cell_type": "code",
      "metadata": {
        "id": "-gMM1OJ5A_Cs"
      },
      "source": [
        "#Implementing As A class--\r\n",
        "from tensorflow.keras.losses import Loss\r\n",
        "class MyHuberLoss(Loss):\r\n",
        "   threshold=1\r\n",
        "   def __init__(self,threshold):\r\n",
        "     super().__init__()\r\n",
        "     self.threshold=threshold\r\n",
        "\r\n",
        "   def call(self,y_true,y_pred):\r\n",
        "     error=y_true-y_pred\r\n",
        "     is_small_error=tf.abs(error)<=self.threshold\r\n",
        "     small_error_loss=tf.square(error)/2\r\n",
        "     big_error_loss=self.threshold*(tf.abs(error)-(0.5*self.threshold))\r\n",
        "     return tf.where(is_small_error,small_error_loss,big_error_loss)#Boolean to chech--> value if true,value if false"
      ],
      "execution_count": 14,
      "outputs": []
    },
    {
      "cell_type": "code",
      "metadata": {
        "colab": {
          "base_uri": "https://localhost:8080/"
        },
        "id": "hD6pSJ1kEDGR",
        "outputId": "de8db21b-3e08-4e68-b9ae-040fb9c05f75"
      },
      "source": [
        "  model=tf.keras.Sequential([keras.layers.Dense(units=1,input_shape=[1])])\r\n",
        "  model.compile(optimizer='sgd',loss=MyHuberLoss(threshold=1.10))\r\n",
        "  model.fit(xs,ys,epochs=500,verbose=0)\r\n",
        "  print(model.predict([10.0]))"
      ],
      "execution_count": 18,
      "outputs": [
        {
          "output_type": "stream",
          "text": [
            "WARNING:tensorflow:5 out of the last 5 calls to <function Model.make_predict_function.<locals>.predict_function at 0x7fe79214af28> triggered tf.function retracing. Tracing is expensive and the excessive number of tracings could be due to (1) creating @tf.function repeatedly in a loop, (2) passing tensors with different shapes, (3) passing Python objects instead of tensors. For (1), please define your @tf.function outside of the loop. For (2), @tf.function has experimental_relax_shapes=True option that relaxes argument shapes that can avoid unnecessary retracing. For (3), please refer to https://www.tensorflow.org/guide/function#controlling_retracing and https://www.tensorflow.org/api_docs/python/tf/function for  more details.\n",
            "[[18.827394]]\n"
          ],
          "name": "stdout"
        }
      ]
    },
    {
      "cell_type": "code",
      "metadata": {
        "id": "RQ31PB8_ET7v"
      },
      "source": [
        ""
      ],
      "execution_count": null,
      "outputs": []
    }
  ]
}